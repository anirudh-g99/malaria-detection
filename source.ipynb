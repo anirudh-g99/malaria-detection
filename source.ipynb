{
 "cells": [
  {
   "cell_type": "code",
   "execution_count": 1,
   "metadata": {},
   "outputs": [],
   "source": [
    "import os\n",
    "import shutil  \n",
    "import pandas as pd\n",
    "import numpy as np\n",
    "import matplotlib.pyplot as plt\n",
    "%matplotlib inline"
   ]
  },
  {
   "cell_type": "code",
   "execution_count": 2,
   "metadata": {},
   "outputs": [
    {
     "name": "stdout",
     "output_type": "stream",
     "text": [
      "Total Parasitized images:  13780\n",
      "Training:  12402\n",
      "Validation:  689\n",
      "Testing:  689\n",
      "\n",
      "Total Uninfected images:  13780\n",
      "Training:  12402\n",
      "Validation:  689\n",
      "Testing:  689\n",
      "\n"
     ]
    }
   ],
   "source": [
    "# train-validation-test split\n",
    "root_dir = 'cell_images'\n",
    "class_dirs = ['Parasitized','Uninfected']\n",
    "\n",
    "train_path = os.path.join('data','train')  \n",
    "val_path = os.path.join('data','val')\n",
    "test_path = os.path.join('data','test')\n",
    "\n",
    "val_ratio = 0.15\n",
    "test_ratio = 0.05\n",
    "\n",
    "for class_dir in class_dirs:\n",
    "    # create directories\n",
    "    os.makedirs(os.path.join(train_path,class_dir))\n",
    "    os.makedirs(os.path.join(val_path,class_dir))\n",
    "    os.makedirs(os.path.join(test_path,class_dir))\n",
    "    # shuffle images\n",
    "    src = os.path.join(root_dir,class_dir) \n",
    "    file_list = os.listdir(src)\n",
    "    np.random.shuffle(file_list)\n",
    "    train_files, val_files, test_files = np.split(np.array(file_list),\n",
    "                                                 [int(len(file_list)* (1 - val_ratio + test_ratio)), \n",
    "                                                 int(len(file_list)* (1 - test_ratio))])\n",
    "    # append path to file names\n",
    "    train_files = [os.path.join(src,name) for name in train_files.tolist()]\n",
    "    val_files = [os.path.join(src,name) for name in val_files.tolist()]\n",
    "    test_files = [os.path.join(src,name) for name in test_files.tolist()]\n",
    "    # Copy-pasting images\n",
    "    for name in train_files:\n",
    "        shutil.copy(name, os.path.join(train_path,class_dir))\n",
    "    for name in val_files:\n",
    "        shutil.copy(name, os.path.join(val_path,class_dir))\n",
    "    for name in test_files:\n",
    "        shutil.copy(name, os.path.join(test_path,class_dir))\n",
    "    \n",
    "    print(f'Total {class_dir} images: ', len(file_list))\n",
    "    print('Training: ', len(train_files))\n",
    "    print('Validation: ', len(val_files))\n",
    "    print('Testing: ', len(test_files))\n",
    "    print()\n"
   ]
  },
  {
   "cell_type": "code",
   "execution_count": null,
   "metadata": {},
   "outputs": [],
   "source": []
  }
 ],
 "metadata": {
  "kernelspec": {
   "display_name": "Python 3",
   "language": "python",
   "name": "python3"
  },
  "language_info": {
   "codemirror_mode": {
    "name": "ipython",
    "version": 3
   },
   "file_extension": ".py",
   "mimetype": "text/x-python",
   "name": "python",
   "nbconvert_exporter": "python",
   "pygments_lexer": "ipython3",
   "version": "3.7.7"
  }
 },
 "nbformat": 4,
 "nbformat_minor": 4
}
