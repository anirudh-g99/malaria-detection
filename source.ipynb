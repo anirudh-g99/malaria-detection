{
 "cells": [
  {
   "cell_type": "code",
   "execution_count": 1,
   "metadata": {},
   "outputs": [],
   "source": [
    "import os\n",
    "import random\n",
    "import shutil  \n",
    "import pandas as pd\n",
    "import numpy as np\n",
    "import matplotlib.pyplot as plt\n",
    "%matplotlib inline"
   ]
  },
  {
   "cell_type": "code",
   "execution_count": 2,
   "metadata": {},
   "outputs": [
    {
     "name": "stdout",
     "output_type": "stream",
     "text": [
      "Total Parasitized images:  13780\n",
      "Training:  12402\n",
      "Testing:  1378\n",
      "\n",
      "Total Uninfected images:  13780\n",
      "Training:  12402\n",
      "Testing:  1378\n",
      "\n"
     ]
    }
   ],
   "source": [
    "# train-test split\n",
    "root_dir = 'cell_images'\n",
    "class_dirs = ['Parasitized','Uninfected']\n",
    "\n",
    "train_path = os.path.join('data','train')  \n",
    "test_path = os.path.join('data','test')\n",
    "\n",
    "test_ratio = 0.10\n",
    "\n",
    "for class_dir in class_dirs:\n",
    "    # create directories\n",
    "    os.makedirs(os.path.join(train_path,class_dir))\n",
    "    os.makedirs(os.path.join(test_path,class_dir))\n",
    "    # shuffle images\n",
    "    src = os.path.join(root_dir,class_dir) \n",
    "    file_list = os.listdir(src)\n",
    "    random.shuffle(file_list)\n",
    "    threshold = int(len(file_list) * (1 - test_ratio))\n",
    "    train_files, test_files = file_list[0:threshold], file_list[threshold:]\n",
    "    # append path to file names\n",
    "    train_files = [os.path.join(src,name) for name in train_files]\n",
    "    test_files = [os.path.join(src,name) for name in test_files]\n",
    "    # Copy-pasting images\n",
    "    for name in train_files:\n",
    "        shutil.copy(name, os.path.join(train_path,class_dir))\n",
    "    for name in test_files:\n",
    "        shutil.copy(name, os.path.join(test_path,class_dir))\n",
    "    \n",
    "    print(f'Total {class_dir} images: ', len(file_list))\n",
    "    print('Training: ', len(train_files))\n",
    "    print('Testing: ', len(test_files))\n",
    "    print()\n"
   ]
  },
  {
   "cell_type": "code",
   "execution_count": null,
   "metadata": {},
   "outputs": [],
   "source": []
  }
 ],
 "metadata": {
  "kernelspec": {
   "display_name": "Python 3",
   "language": "python",
   "name": "python3"
  },
  "language_info": {
   "codemirror_mode": {
    "name": "ipython",
    "version": 3
   },
   "file_extension": ".py",
   "mimetype": "text/x-python",
   "name": "python",
   "nbconvert_exporter": "python",
   "pygments_lexer": "ipython3",
   "version": "3.7.7"
  }
 },
 "nbformat": 4,
 "nbformat_minor": 4
}
